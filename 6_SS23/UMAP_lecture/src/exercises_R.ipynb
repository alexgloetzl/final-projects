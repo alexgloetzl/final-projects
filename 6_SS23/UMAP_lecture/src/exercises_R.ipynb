{
 "cells": [
  {
   "attachments": {},
   "cell_type": "markdown",
   "metadata": {},
   "source": [
    "# Exercises"
   ]
  },
  {
   "attachments": {},
   "cell_type": "markdown",
   "metadata": {},
   "source": [
    "After learning about the theory of UMAP in the lecture, we want to program parts of the algorithm for ourselves. We will start by calculating the $k$-nearest neighbors of each sample. For this we will look at the iris data set again."
   ]
  },
  {
   "attachments": {},
   "cell_type": "markdown",
   "metadata": {},
   "source": [
    "## Load data"
   ]
  },
  {
   "cell_type": "code",
   "execution_count": 2,
   "metadata": {
    "vscode": {
     "languageId": "r"
    }
   },
   "outputs": [
    {
     "data": {
      "text/html": [
       "<table class=\"dataframe\">\n",
       "<caption>A data.frame: 6 × 5</caption>\n",
       "<thead>\n",
       "\t<tr><th></th><th scope=col>Sepal.Length</th><th scope=col>Sepal.Width</th><th scope=col>Petal.Length</th><th scope=col>Petal.Width</th><th scope=col>Species</th></tr>\n",
       "\t<tr><th></th><th scope=col>&lt;dbl&gt;</th><th scope=col>&lt;dbl&gt;</th><th scope=col>&lt;dbl&gt;</th><th scope=col>&lt;dbl&gt;</th><th scope=col>&lt;fct&gt;</th></tr>\n",
       "</thead>\n",
       "<tbody>\n",
       "\t<tr><th scope=row>1</th><td>5.1</td><td>3.5</td><td>1.4</td><td>0.2</td><td>setosa</td></tr>\n",
       "\t<tr><th scope=row>2</th><td>4.9</td><td>3.0</td><td>1.4</td><td>0.2</td><td>setosa</td></tr>\n",
       "\t<tr><th scope=row>3</th><td>4.7</td><td>3.2</td><td>1.3</td><td>0.2</td><td>setosa</td></tr>\n",
       "\t<tr><th scope=row>4</th><td>4.6</td><td>3.1</td><td>1.5</td><td>0.2</td><td>setosa</td></tr>\n",
       "\t<tr><th scope=row>5</th><td>5.0</td><td>3.6</td><td>1.4</td><td>0.2</td><td>setosa</td></tr>\n",
       "\t<tr><th scope=row>6</th><td>5.4</td><td>3.9</td><td>1.7</td><td>0.4</td><td>setosa</td></tr>\n",
       "</tbody>\n",
       "</table>\n"
      ],
      "text/latex": [
       "A data.frame: 6 × 5\n",
       "\\begin{tabular}{r|lllll}\n",
       "  & Sepal.Length & Sepal.Width & Petal.Length & Petal.Width & Species\\\\\n",
       "  & <dbl> & <dbl> & <dbl> & <dbl> & <fct>\\\\\n",
       "\\hline\n",
       "\t1 & 5.1 & 3.5 & 1.4 & 0.2 & setosa\\\\\n",
       "\t2 & 4.9 & 3.0 & 1.4 & 0.2 & setosa\\\\\n",
       "\t3 & 4.7 & 3.2 & 1.3 & 0.2 & setosa\\\\\n",
       "\t4 & 4.6 & 3.1 & 1.5 & 0.2 & setosa\\\\\n",
       "\t5 & 5.0 & 3.6 & 1.4 & 0.2 & setosa\\\\\n",
       "\t6 & 5.4 & 3.9 & 1.7 & 0.4 & setosa\\\\\n",
       "\\end{tabular}\n"
      ],
      "text/markdown": [
       "\n",
       "A data.frame: 6 × 5\n",
       "\n",
       "| <!--/--> | Sepal.Length &lt;dbl&gt; | Sepal.Width &lt;dbl&gt; | Petal.Length &lt;dbl&gt; | Petal.Width &lt;dbl&gt; | Species &lt;fct&gt; |\n",
       "|---|---|---|---|---|---|\n",
       "| 1 | 5.1 | 3.5 | 1.4 | 0.2 | setosa |\n",
       "| 2 | 4.9 | 3.0 | 1.4 | 0.2 | setosa |\n",
       "| 3 | 4.7 | 3.2 | 1.3 | 0.2 | setosa |\n",
       "| 4 | 4.6 | 3.1 | 1.5 | 0.2 | setosa |\n",
       "| 5 | 5.0 | 3.6 | 1.4 | 0.2 | setosa |\n",
       "| 6 | 5.4 | 3.9 | 1.7 | 0.4 | setosa |\n",
       "\n"
      ],
      "text/plain": [
       "  Sepal.Length Sepal.Width Petal.Length Petal.Width Species\n",
       "1 5.1          3.5         1.4          0.2         setosa \n",
       "2 4.9          3.0         1.4          0.2         setosa \n",
       "3 4.7          3.2         1.3          0.2         setosa \n",
       "4 4.6          3.1         1.5          0.2         setosa \n",
       "5 5.0          3.6         1.4          0.2         setosa \n",
       "6 5.4          3.9         1.7          0.4         setosa "
      ]
     },
     "metadata": {},
     "output_type": "display_data"
    }
   ],
   "source": [
    "data(\"iris\")\n",
    "\n",
    "head(iris)\n",
    "\n",
    "iris_data <- iris[, -5]\n",
    "iris_species <- iris[, 5]"
   ]
  },
  {
   "attachments": {},
   "cell_type": "markdown",
   "metadata": {},
   "source": [
    "## Scale data"
   ]
  },
  {
   "attachments": {},
   "cell_type": "markdown",
   "metadata": {},
   "source": [
    "A general theme in data science is to scale your data beforehand because usually algorithms work best if the features of the data provided to them are on the same order of magnitude. Therefore we will apply the standard scaling, also called z-score, for the iris data set.\n",
    "\n",
    "The z-score is calculated like this:\n",
    "\n",
    "$\\Large \\text{z-score} = \\frac{x-x_{mean}}{x_{SD}}$\n",
    "\n",
    "with $x_{mean}$ and $x_{SD}$ being the mean and the standard deviation of the data, respectively. Instead of calculating the z-score manually, we can use an in-built function `scale(x)` of R."
   ]
  },
  {
   "cell_type": "code",
   "execution_count": 3,
   "metadata": {
    "vscode": {
     "languageId": "r"
    }
   },
   "outputs": [
    {
     "data": {
      "text/html": [
       "<table class=\"dataframe\">\n",
       "<caption>A matrix: 6 × 4 of type dbl</caption>\n",
       "<thead>\n",
       "\t<tr><th scope=col>Sepal.Length</th><th scope=col>Sepal.Width</th><th scope=col>Petal.Length</th><th scope=col>Petal.Width</th></tr>\n",
       "</thead>\n",
       "<tbody>\n",
       "\t<tr><td>-0.8976739</td><td> 1.01560199</td><td>-1.335752</td><td>-1.311052</td></tr>\n",
       "\t<tr><td>-1.1392005</td><td>-0.13153881</td><td>-1.335752</td><td>-1.311052</td></tr>\n",
       "\t<tr><td>-1.3807271</td><td> 0.32731751</td><td>-1.392399</td><td>-1.311052</td></tr>\n",
       "\t<tr><td>-1.5014904</td><td> 0.09788935</td><td>-1.279104</td><td>-1.311052</td></tr>\n",
       "\t<tr><td>-1.0184372</td><td> 1.24503015</td><td>-1.335752</td><td>-1.311052</td></tr>\n",
       "\t<tr><td>-0.5353840</td><td> 1.93331463</td><td>-1.165809</td><td>-1.048667</td></tr>\n",
       "</tbody>\n",
       "</table>\n"
      ],
      "text/latex": [
       "A matrix: 6 × 4 of type dbl\n",
       "\\begin{tabular}{llll}\n",
       " Sepal.Length & Sepal.Width & Petal.Length & Petal.Width\\\\\n",
       "\\hline\n",
       "\t -0.8976739 &  1.01560199 & -1.335752 & -1.311052\\\\\n",
       "\t -1.1392005 & -0.13153881 & -1.335752 & -1.311052\\\\\n",
       "\t -1.3807271 &  0.32731751 & -1.392399 & -1.311052\\\\\n",
       "\t -1.5014904 &  0.09788935 & -1.279104 & -1.311052\\\\\n",
       "\t -1.0184372 &  1.24503015 & -1.335752 & -1.311052\\\\\n",
       "\t -0.5353840 &  1.93331463 & -1.165809 & -1.048667\\\\\n",
       "\\end{tabular}\n"
      ],
      "text/markdown": [
       "\n",
       "A matrix: 6 × 4 of type dbl\n",
       "\n",
       "| Sepal.Length | Sepal.Width | Petal.Length | Petal.Width |\n",
       "|---|---|---|---|\n",
       "| -0.8976739 |  1.01560199 | -1.335752 | -1.311052 |\n",
       "| -1.1392005 | -0.13153881 | -1.335752 | -1.311052 |\n",
       "| -1.3807271 |  0.32731751 | -1.392399 | -1.311052 |\n",
       "| -1.5014904 |  0.09788935 | -1.279104 | -1.311052 |\n",
       "| -1.0184372 |  1.24503015 | -1.335752 | -1.311052 |\n",
       "| -0.5353840 |  1.93331463 | -1.165809 | -1.048667 |\n",
       "\n"
      ],
      "text/plain": [
       "     Sepal.Length Sepal.Width Petal.Length Petal.Width\n",
       "[1,] -0.8976739    1.01560199 -1.335752    -1.311052  \n",
       "[2,] -1.1392005   -0.13153881 -1.335752    -1.311052  \n",
       "[3,] -1.3807271    0.32731751 -1.392399    -1.311052  \n",
       "[4,] -1.5014904    0.09788935 -1.279104    -1.311052  \n",
       "[5,] -1.0184372    1.24503015 -1.335752    -1.311052  \n",
       "[6,] -0.5353840    1.93331463 -1.165809    -1.048667  "
      ]
     },
     "metadata": {},
     "output_type": "display_data"
    }
   ],
   "source": [
    "iris_data <- scale(iris_data)\n",
    "head(iris_data)"
   ]
  },
  {
   "attachments": {},
   "cell_type": "markdown",
   "metadata": {},
   "source": [
    "## Distance matrix"
   ]
  },
  {
   "attachments": {},
   "cell_type": "markdown",
   "metadata": {},
   "source": [
    "Next we need to calculate the k-nearest neighbors of each of our samples. As a distance measure we use the euclidean distance as in the lecture. You can use for-loops or the built-in function `dist()`. Look up how to use `dist()` on the internet. Make sure that the end result is a matrix. You can check the format/class of an object with `str()`.\n",
    "\n",
    "The upper left corner (5x5) of the distance matrix (150x150) should look something like this:\n",
    "\n",
    "| |\t1|\t2|\t3|\t4|\t5|\n",
    "|--- |--- |---|---|---|---|\n",
    "|1\t|0.0000000\t|1.1722914\t|0.8427840\t|1.0999999\t|0.2592702|\n",
    "|2\t|1.1722914\t|0.0000000\t|0.5216255\t|0.4325508\t|1.3818560|\n",
    "|3\t|0.8427840\t|0.5216255\t|0.0000000\t|0.2829432\t|0.9882608|\n",
    "|4\t|1.0999999\t|0.4325508\t|0.2829432\t|0.0000000\t|1.2459861|\n",
    "|5\t|0.2592702\t|1.3818560\t|0.9882608\t|1.2459861\t|0.0000000|"
   ]
  },
  {
   "cell_type": "code",
   "execution_count": 3,
   "metadata": {
    "vscode": {
     "languageId": "r"
    }
   },
   "outputs": [],
   "source": [
    "### Try to code the distance matrix for the iris data set `iris_data`\n",
    "\n",
    "calculate_distance <- function(data){\n",
    "    #' @param data the iris data set 'iris_data'\n",
    "    #' @returns a distance matrix, where first row shows the distance of the first sample to all the other samples. \n",
    "    #' second row shows the distance of the second sample to all the other samples. And so on.\n",
    "    \n",
    "    # here goes your code\n",
    "    \n",
    "    return(distance_matrix)\n",
    "}\n"
   ]
  },
  {
   "cell_type": "code",
   "execution_count": 4,
   "metadata": {
    "vscode": {
     "languageId": "r"
    }
   },
   "outputs": [
    {
     "data": {
      "text/html": [
       "<table class=\"dataframe\">\n",
       "<caption>A matrix: 5 × 5 of type dbl</caption>\n",
       "<thead>\n",
       "\t<tr><th></th><th scope=col>1</th><th scope=col>2</th><th scope=col>3</th><th scope=col>4</th><th scope=col>5</th></tr>\n",
       "</thead>\n",
       "<tbody>\n",
       "\t<tr><th scope=row>1</th><td>0.0000000</td><td>1.1722914</td><td>0.8427840</td><td>1.0999999</td><td>0.2592702</td></tr>\n",
       "\t<tr><th scope=row>2</th><td>1.1722914</td><td>0.0000000</td><td>0.5216255</td><td>0.4325508</td><td>1.3818560</td></tr>\n",
       "\t<tr><th scope=row>3</th><td>0.8427840</td><td>0.5216255</td><td>0.0000000</td><td>0.2829432</td><td>0.9882608</td></tr>\n",
       "\t<tr><th scope=row>4</th><td>1.0999999</td><td>0.4325508</td><td>0.2829432</td><td>0.0000000</td><td>1.2459861</td></tr>\n",
       "\t<tr><th scope=row>5</th><td>0.2592702</td><td>1.3818560</td><td>0.9882608</td><td>1.2459861</td><td>0.0000000</td></tr>\n",
       "</tbody>\n",
       "</table>\n"
      ],
      "text/latex": [
       "A matrix: 5 × 5 of type dbl\n",
       "\\begin{tabular}{r|lllll}\n",
       "  & 1 & 2 & 3 & 4 & 5\\\\\n",
       "\\hline\n",
       "\t1 & 0.0000000 & 1.1722914 & 0.8427840 & 1.0999999 & 0.2592702\\\\\n",
       "\t2 & 1.1722914 & 0.0000000 & 0.5216255 & 0.4325508 & 1.3818560\\\\\n",
       "\t3 & 0.8427840 & 0.5216255 & 0.0000000 & 0.2829432 & 0.9882608\\\\\n",
       "\t4 & 1.0999999 & 0.4325508 & 0.2829432 & 0.0000000 & 1.2459861\\\\\n",
       "\t5 & 0.2592702 & 1.3818560 & 0.9882608 & 1.2459861 & 0.0000000\\\\\n",
       "\\end{tabular}\n"
      ],
      "text/markdown": [
       "\n",
       "A matrix: 5 × 5 of type dbl\n",
       "\n",
       "| <!--/--> | 1 | 2 | 3 | 4 | 5 |\n",
       "|---|---|---|---|---|---|\n",
       "| 1 | 0.0000000 | 1.1722914 | 0.8427840 | 1.0999999 | 0.2592702 |\n",
       "| 2 | 1.1722914 | 0.0000000 | 0.5216255 | 0.4325508 | 1.3818560 |\n",
       "| 3 | 0.8427840 | 0.5216255 | 0.0000000 | 0.2829432 | 0.9882608 |\n",
       "| 4 | 1.0999999 | 0.4325508 | 0.2829432 | 0.0000000 | 1.2459861 |\n",
       "| 5 | 0.2592702 | 1.3818560 | 0.9882608 | 1.2459861 | 0.0000000 |\n",
       "\n"
      ],
      "text/plain": [
       "  1         2         3         4         5        \n",
       "1 0.0000000 1.1722914 0.8427840 1.0999999 0.2592702\n",
       "2 1.1722914 0.0000000 0.5216255 0.4325508 1.3818560\n",
       "3 0.8427840 0.5216255 0.0000000 0.2829432 0.9882608\n",
       "4 1.0999999 0.4325508 0.2829432 0.0000000 1.2459861\n",
       "5 0.2592702 1.3818560 0.9882608 1.2459861 0.0000000"
      ]
     },
     "metadata": {},
     "output_type": "display_data"
    }
   ],
   "source": [
    "calculate_distance <- function(iris_data){\n",
    "    #' @param data the iris data set 'iris_data'\n",
    "    #' @returns a distance matrix\n",
    "    \n",
    "    dist <- as.matrix(dist(iris_data, method = \"euclidean\", diag = TRUE, upper = TRUE))\n",
    "    \n",
    "    return(dist)\n",
    "}\n",
    "\n",
    "dist <- calculate_distance(iris_data)\n",
    "dist[1:5,1:5]"
   ]
  },
  {
   "attachments": {},
   "cell_type": "markdown",
   "metadata": {},
   "source": [
    "We also need the distance to the next nearest neighbor $d_{\\text{nearest neighbor}}$ for each sample. You can use the distance matrix from above and the `sort()` or `order()` function. The end result should be an array/vector of length 150 since we have that many samples.\n",
    "\n",
    "The distance to the 5 next nearest neighbors of the first five samples should look something like this:\n",
    "\n",
    "|\t1|\t2|\t3|\t4|\t5|\n",
    "|--- |---|---|---|---|\n",
    "|0.1312|0.1656|0.1334|0.2363|0.1783|"
   ]
  },
  {
   "cell_type": "code",
   "execution_count": 5,
   "metadata": {
    "vscode": {
     "languageId": "r"
    }
   },
   "outputs": [],
   "source": [
    "### Try to code the next nearest neighbor for the iris data set `iris_data`\n",
    "\n",
    "calculate_nearest_neighbor <- function(distance_matrix){\n",
    "    #' @param distance_matrix the distance matrix from above\n",
    "    #' @returns a vector of the next nearest neighbor for each sample\n",
    "\n",
    "    # here goes your code\n",
    "\n",
    "    return(nearest_neighbors)\n",
    "\n",
    "}\n",
    "\n"
   ]
  },
  {
   "cell_type": "code",
   "execution_count": 5,
   "metadata": {
    "vscode": {
     "languageId": "r"
    }
   },
   "outputs": [
    {
     "data": {
      "text/html": [
       "<style>\n",
       ".list-inline {list-style: none; margin:0; padding: 0}\n",
       ".list-inline>li {display: inline-block}\n",
       ".list-inline>li:not(:last-child)::after {content: \"\\00b7\"; padding: 0 .5ex}\n",
       "</style>\n",
       "<ol class=list-inline><li>0.131192676604916</li><li>0.165588650131431</li><li>0.133389398453683</li><li>0.236318085072083</li><li>0.178312348246252</li></ol>\n"
      ],
      "text/latex": [
       "\\begin{enumerate*}\n",
       "\\item 0.131192676604916\n",
       "\\item 0.165588650131431\n",
       "\\item 0.133389398453683\n",
       "\\item 0.236318085072083\n",
       "\\item 0.178312348246252\n",
       "\\end{enumerate*}\n"
      ],
      "text/markdown": [
       "1. 0.131192676604916\n",
       "2. 0.165588650131431\n",
       "3. 0.133389398453683\n",
       "4. 0.236318085072083\n",
       "5. 0.178312348246252\n",
       "\n",
       "\n"
      ],
      "text/plain": [
       "[1] 0.1311927 0.1655887 0.1333894 0.2363181 0.1783123"
      ]
     },
     "metadata": {},
     "output_type": "display_data"
    }
   ],
   "source": [
    "calculate_nearest_neighbor <- function(distance_matrix){\n",
    "    #' @param distance_matrix the distance matrix from above\n",
    "    #' @returns a vector of the next nearest neighbor for each sample\n",
    "    \n",
    "    nearest_neighbors <- apply(distance_matrix, 2, sort)[2,,drop=FALSE]\n",
    "\n",
    "    return(nearest_neighbors)\n",
    "\n",
    "}\n",
    "\n",
    "dist_nn <- calculate_nearest_neighbor(dist)\n",
    "dist_nn[1:5]\n"
   ]
  },
  {
   "attachments": {},
   "cell_type": "markdown",
   "metadata": {},
   "source": [
    "## High dimensional edge weights"
   ]
  },
  {
   "attachments": {},
   "cell_type": "markdown",
   "metadata": {},
   "source": [
    "Now we can calculate the high dimensional edge weights $w_{high}(x_i, x_j)$. As mentioned in the lecture we will not solve the following equation analytically for $\\sigma_i$ but use a binary search.\n",
    "\n",
    "\\begin{equation}\n",
    "    \\Large \\sum_{j=1, j\\ne i}^{k} \\exp(-\\frac{d(x_i, x_j)-d_{\\text{nearest neighbor}}}{\\sigma_i}) = log_2(k)\n",
    "    \\tag{1}\n",
    "\\end{equation}\n",
    "\n",
    "Instead of calculating the sum of the high dimensional edge weights, we first calculate the high dimensional edge weights for a specific sample (and do not take the sum).\n",
    "\n",
    "Different from above equation we will use $k = \\text{total number of samples}$ (150 in our case), instead of $k$-nearest neighbors. This saves us some computational power by not sorting for the $k$-nearest neighbors for every sample (and later makes taking the \"fuzzy union\" of two edges easier). Therefore we will return all the high dimensional edge weights for a specific sample and not just its $k$-nearest neighbors high dimensional edge weights.\n",
    "\n",
    "Choosing a $\\sigma$=3 we expect the first 5 biggest high dimensional edge weights (after sorting them) for the first sample to look something like this.\n",
    "\n",
    "|\t1|\t2|\t3|\t4|\t5|\n",
    "|--- |---|---|---|---|\n",
    "|1.0000|0.9993|0.9815|0.9656|0.9582|"
   ]
  },
  {
   "cell_type": "code",
   "execution_count": 16,
   "metadata": {
    "vscode": {
     "languageId": "r"
    }
   },
   "outputs": [],
   "source": [
    "high_dim_edge_weight <- function(dist, sample_index, dist_nn, sigma){\n",
    "    #' @param dist distance matrix\n",
    "    #' @param sample_index integer of sample, for which we want to \n",
    "    #'                     calculate the edge weights of its neighbors\n",
    "    #' @param dist_nn nearest neighbors\n",
    "    #' @param sigma decaying constant\n",
    "    #' @returns the high dimensional edge weights as an array for a specific sample. \n",
    "    #'          This should be 150 long vector\n",
    "\n",
    "    # here goes your code\n",
    "\n",
    "    return(high_dim_edges)\n",
    "}"
   ]
  },
  {
   "cell_type": "code",
   "execution_count": 17,
   "metadata": {
    "vscode": {
     "languageId": "r"
    }
   },
   "outputs": [
    {
     "data": {
      "text/html": [
       "<style>\n",
       ".list-inline {list-style: none; margin:0; padding: 0}\n",
       ".list-inline>li {display: inline-block}\n",
       ".list-inline>li:not(:last-child)::after {content: \"\\00b7\"; padding: 0 .5ex}\n",
       "</style>\n",
       "<ol class=list-inline><li>1</li><li>0.999268027406481</li><li>0.981538686508379</li><li>0.965565052069527</li><li>0.958205973697068</li></ol>\n"
      ],
      "text/latex": [
       "\\begin{enumerate*}\n",
       "\\item 1\n",
       "\\item 0.999268027406481\n",
       "\\item 0.981538686508379\n",
       "\\item 0.965565052069527\n",
       "\\item 0.958205973697068\n",
       "\\end{enumerate*}\n"
      ],
      "text/markdown": [
       "1. 1\n",
       "2. 0.999268027406481\n",
       "3. 0.981538686508379\n",
       "4. 0.965565052069527\n",
       "5. 0.958205973697068\n",
       "\n",
       "\n"
      ],
      "text/plain": [
       "[1] 1.0000000 0.9992680 0.9815387 0.9655651 0.9582060"
      ]
     },
     "metadata": {},
     "output_type": "display_data"
    }
   ],
   "source": [
    "high_dim_edge_weight <- function(dist, sample_index, dist_nn, sigma){\n",
    "    #' @param dist distance matrix\n",
    "    #' @param sample_index integer of sample, for which we want to \n",
    "    #'                     calculate the edge weights of its neighbors\n",
    "    #' @param dist_nn nearest neighbors\n",
    "    #' @param sigma decaying constant\n",
    "    #' @returns the high dimensional edge weights as an array for a specific sample. \n",
    "    #'          This should be 150 long vector\n",
    "\n",
    "    d <- dist[,sample_index] - dist_nn[sample_index]\n",
    "    d[d < 0] <- 1e10 #this sets the edge weight from the sample to itself to 0\n",
    "\n",
    "    high_dim_edges <- exp(-d/sigma)\n",
    "    high_dim_edges <- unname(high_dim_edges)\n",
    "\n",
    "    return(high_dim_edges)\n",
    "}\n",
    "\n",
    "# we calculate the edge weights for the first sample (sample_index=1)\n",
    "high_dim_edges_1st_sample <- high_dim_edge_weight(dist, sample_index=1, dist_nn, sigma=3)\n",
    "\n",
    "# and check if that agrees with the table above. the 5 highest edge weights are\n",
    "first_five <- sort(high_dim_edges_1st_sample, decreasing = TRUE)[1:5]\n",
    "first_five"
   ]
  },
  {
   "attachments": {},
   "cell_type": "markdown",
   "metadata": {},
   "source": [
    "## Binary search for sigma"
   ]
  },
  {
   "attachments": {},
   "cell_type": "markdown",
   "metadata": {},
   "source": [
    "For the binary search we need to calculate the $k$-nearest neighbors as a function of the high dimensional edge weights or more specifically the $\\sigma_i$ sigma. Different high dimensional edge weights (or $\\sigma_i$) for a sample $i$ result in a different $k$. \n",
    "\n",
    "Find the mathematical expression that describes $k$ as a function of the high dimensional edge weights. For this you need to rewrite equation 1 and singulate the $k$.\n"
   ]
  },
  {
   "cell_type": "code",
   "execution_count": 11,
   "metadata": {
    "vscode": {
     "languageId": "r"
    }
   },
   "outputs": [],
   "source": [
    "k <- function(high_dim_edge_weights){\n",
    "    #' @param high_dim_edge_weights the high dimensional edge weights of a sample \n",
    "    #' @returns the expected number of k-nearest neighbors given \n",
    "    #'          edge weights (or more specifically sigma).\n",
    "    \n",
    "    # here goes your code\n",
    "\n",
    "    return(summation)\n",
    "}"
   ]
  },
  {
   "cell_type": "code",
   "execution_count": 19,
   "metadata": {
    "vscode": {
     "languageId": "r"
    }
   },
   "outputs": [],
   "source": [
    "k <- function(high_dim_edge_weights){\n",
    "    #' @param high_dim_edge_weights the high dimensional edge weights of a sample\n",
    "    #' @returns the expected number of k-nearest neighbors given \n",
    "    #'          edge weights (or more specifically sigma).\n",
    "     \n",
    "    summation <- 2**sum(high_dim_edge_weights)\n",
    "    return(summation)\n",
    "}"
   ]
  },
  {
   "attachments": {},
   "cell_type": "markdown",
   "metadata": {},
   "source": [
    "Before writing the binary search function, convince yourself that changing $\\sigma_i$ in the high dimensional edge weight function `high_dim_edge_weight()` and plugging the result into the function `k()`, will return a different result of k each time and therefore playing around with $\\sigma_i$ will eventually find the correct and expected number of $k$-nearest neighbors."
   ]
  },
  {
   "cell_type": "code",
   "execution_count": 13,
   "metadata": {
    "vscode": {
     "languageId": "r"
    }
   },
   "outputs": [],
   "source": [
    "# Plug the result of \"high_dim_edge_weight()\" into \"k()\" and \n",
    "# find the correct sigma for the first sample manually by playing around with the sigma value.\n",
    "\n",
    "# here goes your code"
   ]
  },
  {
   "cell_type": "code",
   "execution_count": 25,
   "metadata": {
    "vscode": {
     "languageId": "r"
    }
   },
   "outputs": [
    {
     "data": {
      "text/html": [
       "205.674971808173"
      ],
      "text/latex": [
       "205.674971808173"
      ],
      "text/markdown": [
       "205.674971808173"
      ],
      "text/plain": [
       "[1] 205.675"
      ]
     },
     "metadata": {},
     "output_type": "display_data"
    },
    {
     "data": {
      "text/html": [
       "6.28971077228494"
      ],
      "text/latex": [
       "6.28971077228494"
      ],
      "text/markdown": [
       "6.28971077228494"
      ],
      "text/plain": [
       "[1] 6.289711"
      ]
     },
     "metadata": {},
     "output_type": "display_data"
    },
    {
     "data": {
      "text/html": [
       "14.4733783725479"
      ],
      "text/latex": [
       "14.4733783725479"
      ],
      "text/markdown": [
       "14.4733783725479"
      ],
      "text/plain": [
       "[1] 14.47338"
      ]
     },
     "metadata": {},
     "output_type": "display_data"
    }
   ],
   "source": [
    "k_nn = 15 # k-nearest neighbors = 15 is our goal\n",
    "\n",
    "k_approx <- k(high_dim_edge_weight(dist, sample_index=1, dist_nn, sigma=0.2))\n",
    "k_approx # too large\n",
    "k_approx <- k(high_dim_edge_weight(dist, sample_index=1, dist_nn, sigma=0.05))\n",
    "k_approx # too small\n",
    "k_approx <- k(high_dim_edge_weight(dist, sample_index=1, dist_nn, sigma=0.09))\n",
    "k_approx # close enough to our goal of k_nn = 15\n"
   ]
  },
  {
   "attachments": {},
   "cell_type": "markdown",
   "metadata": {},
   "source": [
    "We can actually write k as a function of sigma $\\sigma_i$ like this:"
   ]
  },
  {
   "cell_type": "code",
   "execution_count": 35,
   "metadata": {
    "vscode": {
     "languageId": "r"
    }
   },
   "outputs": [
    {
     "data": {
      "text/html": [
       "14.4733783725479"
      ],
      "text/latex": [
       "14.4733783725479"
      ],
      "text/markdown": [
       "14.4733783725479"
      ],
      "text/plain": [
       "[1] 14.47338"
      ]
     },
     "metadata": {},
     "output_type": "display_data"
    }
   ],
   "source": [
    "k_of_sigma <- function(sigma){\n",
    "    return (k(high_dim_edge_weight(dist, sample_index=1, dist_nn, sigma)))\n",
    "}\n",
    "\n",
    "k_of_sigma(0.09)"
   ]
  },
  {
   "attachments": {},
   "cell_type": "markdown",
   "metadata": {},
   "source": [
    "Now we write the binary search function. Depending on your programming experience writing the binary search algorithm completely alone can be quite difficult. Feel free to google the binary search algorithm. Take care that you have a stopping criteria, i.e. a condition that stops your function past a numerically sufficient point of precision.\n",
    "\n",
    "For the first sample we expect a $\\sigma_i$ = 0.09 with $k$-nearest neighbors k_nn = 15."
   ]
  },
  {
   "cell_type": "code",
   "execution_count": 15,
   "metadata": {
    "vscode": {
     "languageId": "r"
    }
   },
   "outputs": [],
   "source": [
    "sigma_binary_search <- function(k_of_sigma, fixed_k){\n",
    "    #' @param k_of_sigma k as a function of sigma\n",
    "    #' @param fixed_k our binary search goal. k_of_sigma should approximate this fixed_k at the end.\n",
    "\n",
    "    # here goes your code \n",
    "    \n",
    "    return(approx_sigma)\n",
    "}"
   ]
  },
  {
   "cell_type": "code",
   "execution_count": 39,
   "metadata": {
    "vscode": {
     "languageId": "r"
    }
   },
   "outputs": [
    {
     "data": {
      "text/html": [
       "0.0925064086914062"
      ],
      "text/latex": [
       "0.0925064086914062"
      ],
      "text/markdown": [
       "0.0925064086914062"
      ],
      "text/plain": [
       "[1] 0.09250641"
      ]
     },
     "metadata": {},
     "output_type": "display_data"
    }
   ],
   "source": [
    "sigma_binary_search <- function(k_of_sigma, fixed_k){\n",
    "    #' @param k_of_sigma k as a function of sigma\n",
    "    #' @param fixed_k our binary search goal. k_of_sigma should approximate fixed_k at the end.\n",
    "\n",
    "    sigma_lower_limit <- 0; sigma_upper_limit=1000\n",
    "    for (i in 1:20){\n",
    "        approx_sigma <- (sigma_lower_limit + sigma_upper_limit) / 2\n",
    "        if (k_of_sigma(approx_sigma) < fixed_k){\n",
    "            sigma_lower_limit <- approx_sigma\n",
    "        }\n",
    "        else{\n",
    "            sigma_upper_limit <- approx_sigma\n",
    "        }\n",
    "        if (abs(fixed_k - k_of_sigma(approx_sigma)) <= 1e-10){\n",
    "            break\n",
    "        }\n",
    "    }\n",
    "    return(approx_sigma)\n",
    "}\n",
    "\n",
    "k_nn=15\n",
    "sigma_approx <- sigma_binary_search(k_of_sigma, k_nn)\n",
    "sigma_approx"
   ]
  },
  {
   "attachments": {},
   "cell_type": "markdown",
   "metadata": {},
   "source": [
    "Now we do the same for the rest of the samples (not just the first one) and save the $\\sigma_i$ values in a vector.\n",
    "\n",
    "The first five $\\sigma_i$ values of the first five samples should be something like:\n",
    "\n",
    "|\t1|\t2|\t3|\t4|\t5|\n",
    "|--- |---|---|---|---|\n",
    "|0.0925|0.0887|0.1383|0.0639|0.1249|"
   ]
  },
  {
   "attachments": {},
   "cell_type": "markdown",
   "metadata": {},
   "source": [
    "We will also populate a 150x150 matrix with all the high dimensional edge weights. For each sample all the high dimensional edge weights go into one column."
   ]
  },
  {
   "cell_type": "code",
   "execution_count": 43,
   "metadata": {
    "vscode": {
     "languageId": "r"
    }
   },
   "outputs": [
    {
     "name": "stdout",
     "output_type": "stream",
     "text": [
      "binary search progress: processed sample 50 out of 150\n",
      "binary search progress: processed sample 100 out of 150\n",
      "binary search progress: processed sample 150 out of 150\n"
     ]
    },
    {
     "data": {
      "text/html": [
       "<table class=\"dataframe\">\n",
       "<caption>A matrix: 5 × 5 of type dbl</caption>\n",
       "<tbody>\n",
       "\t<tr><td>0.000000e+00</td><td>1.176261e-05</td><td>0.005916391</td><td>1.347909e-06</td><td>5.230809e-01</td></tr>\n",
       "\t<tr><td>1.295095e-05</td><td>0.000000e+00</td><td>0.060352539</td><td>4.636926e-02</td><td>6.548819e-05</td></tr>\n",
       "\t<tr><td>4.563063e-04</td><td>1.805524e-02</td><td>0.000000000</td><td>4.820527e-01</td><td>1.528988e-03</td></tr>\n",
       "\t<tr><td>2.829385e-05</td><td>4.929161e-02</td><td>0.339083993</td><td>0.000000e+00</td><td>1.943044e-04</td></tr>\n",
       "\t<tr><td>2.504424e-01</td><td>1.107476e-06</td><td>0.002066182</td><td>1.372178e-07</td><td>0.000000e+00</td></tr>\n",
       "</tbody>\n",
       "</table>\n"
      ],
      "text/latex": [
       "A matrix: 5 × 5 of type dbl\n",
       "\\begin{tabular}{lllll}\n",
       "\t 0.000000e+00 & 1.176261e-05 & 0.005916391 & 1.347909e-06 & 5.230809e-01\\\\\n",
       "\t 1.295095e-05 & 0.000000e+00 & 0.060352539 & 4.636926e-02 & 6.548819e-05\\\\\n",
       "\t 4.563063e-04 & 1.805524e-02 & 0.000000000 & 4.820527e-01 & 1.528988e-03\\\\\n",
       "\t 2.829385e-05 & 4.929161e-02 & 0.339083993 & 0.000000e+00 & 1.943044e-04\\\\\n",
       "\t 2.504424e-01 & 1.107476e-06 & 0.002066182 & 1.372178e-07 & 0.000000e+00\\\\\n",
       "\\end{tabular}\n"
      ],
      "text/markdown": [
       "\n",
       "A matrix: 5 × 5 of type dbl\n",
       "\n",
       "| 0.000000e+00 | 1.176261e-05 | 0.005916391 | 1.347909e-06 | 5.230809e-01 |\n",
       "| 1.295095e-05 | 0.000000e+00 | 0.060352539 | 4.636926e-02 | 6.548819e-05 |\n",
       "| 4.563063e-04 | 1.805524e-02 | 0.000000000 | 4.820527e-01 | 1.528988e-03 |\n",
       "| 2.829385e-05 | 4.929161e-02 | 0.339083993 | 0.000000e+00 | 1.943044e-04 |\n",
       "| 2.504424e-01 | 1.107476e-06 | 0.002066182 | 1.372178e-07 | 0.000000e+00 |\n",
       "\n"
      ],
      "text/plain": [
       "     [,1]         [,2]         [,3]        [,4]         [,5]        \n",
       "[1,] 0.000000e+00 1.176261e-05 0.005916391 1.347909e-06 5.230809e-01\n",
       "[2,] 1.295095e-05 0.000000e+00 0.060352539 4.636926e-02 6.548819e-05\n",
       "[3,] 4.563063e-04 1.805524e-02 0.000000000 4.820527e-01 1.528988e-03\n",
       "[4,] 2.829385e-05 4.929161e-02 0.339083993 0.000000e+00 1.943044e-04\n",
       "[5,] 2.504424e-01 1.107476e-06 0.002066182 1.372178e-07 0.000000e+00"
      ]
     },
     "metadata": {},
     "output_type": "display_data"
    },
    {
     "data": {
      "text/html": [
       "<style>\n",
       ".list-inline {list-style: none; margin:0; padding: 0}\n",
       ".list-inline>li {display: inline-block}\n",
       ".list-inline>li:not(:last-child)::after {content: \"\\00b7\"; padding: 0 .5ex}\n",
       "</style>\n",
       "<ol class=list-inline><li>0.0925064086914062</li><li>0.0886917114257812</li><li>0.138282775878906</li><li>0.0638961791992188</li><li>0.124931335449219</li></ol>\n"
      ],
      "text/latex": [
       "\\begin{enumerate*}\n",
       "\\item 0.0925064086914062\n",
       "\\item 0.0886917114257812\n",
       "\\item 0.138282775878906\n",
       "\\item 0.0638961791992188\n",
       "\\item 0.124931335449219\n",
       "\\end{enumerate*}\n"
      ],
      "text/markdown": [
       "1. 0.0925064086914062\n",
       "2. 0.0886917114257812\n",
       "3. 0.138282775878906\n",
       "4. 0.0638961791992188\n",
       "5. 0.124931335449219\n",
       "\n",
       "\n"
      ],
      "text/plain": [
       "[1] 0.09250641 0.08869171 0.13828278 0.06389618 0.12493134"
      ]
     },
     "metadata": {},
     "output_type": "display_data"
    }
   ],
   "source": [
    "k_nn <- 15\n",
    "n <- dim(iris_data)[1]\n",
    "high_dim_edge_weight_matrix <- matrix(0, nrow=n, ncol=n)\n",
    "sigma_vec <- rep(0, n)\n",
    "\n",
    "for (sample_index in 1:n){\n",
    "\n",
    "    binary_search_result <- sigma_binary_search(function(sigma) k(high_dim_edge_weight(dist, sample_index, dist_nn, sigma)), k_nn)\n",
    "    \n",
    "    high_dim_edge_weight_matrix[,sample_index] <- high_dim_edge_weight(dist, sample_index, dist_nn, binary_search_result)\n",
    "    sigma_vec[sample_index] <- binary_search_result\n",
    "    if (sample_index %% 50 == 0){\n",
    "        cat(paste0(\"binary search progress: processed sample \", sample_index ,\" out of \", n, \"\\n\"))\n",
    "    }\n",
    "}\n",
    "\n",
    "high_dim_edge_weight_matrix[1:5, 1:5]\n",
    "sigma_vec[1:5]"
   ]
  },
  {
   "attachments": {},
   "cell_type": "markdown",
   "metadata": {},
   "source": [
    "## Averaging/fuzzy union"
   ]
  },
  {
   "attachments": {},
   "cell_type": "markdown",
   "metadata": {},
   "source": [
    "Write the fuzzy union operator \"to average\" two different high dimensional edge weights, e.g. like in the lecture $w_{high}(B,C)$ and $w_{high}(C,B)$.\n",
    "\n",
    "The formula was given by:\n",
    "\n",
    "$\\text{fuzzy union}(x,y) = x + y - x*y$\n",
    "\n",
    "where $x$ and $y$ are the different edge weights."
   ]
  },
  {
   "cell_type": "code",
   "execution_count": 18,
   "metadata": {
    "vscode": {
     "languageId": "r"
    }
   },
   "outputs": [],
   "source": [
    "# Write the fuzzy union operator for the high dimensional edge weights \"high_dim_edge_weight_matrix\" from above.\n",
    "# Try to make use of matrix operations like transposing and multiplication instead of using loops. \n",
    "# Take care however to use elementwise multiplication and not matrix multiplication.\n",
    "\n",
    "# here goes your code\n"
   ]
  },
  {
   "cell_type": "code",
   "execution_count": 103,
   "metadata": {
    "vscode": {
     "languageId": "r"
    }
   },
   "outputs": [
    {
     "data": {
      "text/html": [
       "<table class=\"dataframe\">\n",
       "<caption>A matrix: 5 × 5 of type dbl</caption>\n",
       "<tbody>\n",
       "\t<tr><td>0.000000e+00</td><td>2.471341e-05</td><td>0.006369997</td><td>2.964172e-05</td><td>6.425217e-01</td></tr>\n",
       "\t<tr><td>2.471341e-05</td><td>0.000000e+00</td><td>0.077318097</td><td>9.337526e-02</td><td>6.659559e-05</td></tr>\n",
       "\t<tr><td>6.369997e-03</td><td>7.731810e-02</td><td>0.000000000</td><td>6.576803e-01</td><td>3.592011e-03</td></tr>\n",
       "\t<tr><td>2.964172e-05</td><td>9.337526e-02</td><td>0.657680317</td><td>0.000000e+00</td><td>1.944416e-04</td></tr>\n",
       "\t<tr><td>6.425217e-01</td><td>6.659559e-05</td><td>0.003592011</td><td>1.944416e-04</td><td>0.000000e+00</td></tr>\n",
       "</tbody>\n",
       "</table>\n"
      ],
      "text/latex": [
       "A matrix: 5 × 5 of type dbl\n",
       "\\begin{tabular}{lllll}\n",
       "\t 0.000000e+00 & 2.471341e-05 & 0.006369997 & 2.964172e-05 & 6.425217e-01\\\\\n",
       "\t 2.471341e-05 & 0.000000e+00 & 0.077318097 & 9.337526e-02 & 6.659559e-05\\\\\n",
       "\t 6.369997e-03 & 7.731810e-02 & 0.000000000 & 6.576803e-01 & 3.592011e-03\\\\\n",
       "\t 2.964172e-05 & 9.337526e-02 & 0.657680317 & 0.000000e+00 & 1.944416e-04\\\\\n",
       "\t 6.425217e-01 & 6.659559e-05 & 0.003592011 & 1.944416e-04 & 0.000000e+00\\\\\n",
       "\\end{tabular}\n"
      ],
      "text/markdown": [
       "\n",
       "A matrix: 5 × 5 of type dbl\n",
       "\n",
       "| 0.000000e+00 | 2.471341e-05 | 0.006369997 | 2.964172e-05 | 6.425217e-01 |\n",
       "| 2.471341e-05 | 0.000000e+00 | 0.077318097 | 9.337526e-02 | 6.659559e-05 |\n",
       "| 6.369997e-03 | 7.731810e-02 | 0.000000000 | 6.576803e-01 | 3.592011e-03 |\n",
       "| 2.964172e-05 | 9.337526e-02 | 0.657680317 | 0.000000e+00 | 1.944416e-04 |\n",
       "| 6.425217e-01 | 6.659559e-05 | 0.003592011 | 1.944416e-04 | 0.000000e+00 |\n",
       "\n"
      ],
      "text/plain": [
       "     [,1]         [,2]         [,3]        [,4]         [,5]        \n",
       "[1,] 0.000000e+00 2.471341e-05 0.006369997 2.964172e-05 6.425217e-01\n",
       "[2,] 2.471341e-05 0.000000e+00 0.077318097 9.337526e-02 6.659559e-05\n",
       "[3,] 6.369997e-03 7.731810e-02 0.000000000 6.576803e-01 3.592011e-03\n",
       "[4,] 2.964172e-05 9.337526e-02 0.657680317 0.000000e+00 1.944416e-04\n",
       "[5,] 6.425217e-01 6.659559e-05 0.003592011 1.944416e-04 0.000000e+00"
      ]
     },
     "metadata": {},
     "output_type": "display_data"
    }
   ],
   "source": [
    "high_dim_edge_avg <- high_dim_edge_weight_matrix + t(high_dim_edge_weight_matrix) - (high_dim_edge_weight_matrix * t(high_dim_edge_weight_matrix)) #elementwise multiplication not vector product!\n",
    "high_dim_edge_avg[1:5,1:5]"
   ]
  },
  {
   "attachments": {},
   "cell_type": "markdown",
   "metadata": {},
   "source": [
    "## Low dim. Weight"
   ]
  },
  {
   "attachments": {},
   "cell_type": "markdown",
   "metadata": {},
   "source": [
    "Write the low dimensional weight function `low_dim_weight()`. The formula was given in the lecture as:\n",
    "\n",
    "\\begin{equation}\n",
    "    \\Large w_{low}(y_i,y_j) = (1 + a(|y_i - y_j|)^{2b})^{-1}\n",
    "    \\tag{2}\n",
    "\\end{equation}\n",
    "\n",
    "with $a = 1.93$ and $b=0.79$.\n",
    "\n",
    "For `y <- c(1:5)` the `low_dim_weight()` should return for the first sample:\n",
    "\n",
    "|\t1|\t2|\t3|\t4|\t5|\n",
    "|--- |---|---|---|---|\n",
    "|1.0000\t|0.3413\t|0.1477\t|0.0837\t|0.0548|\n"
   ]
  },
  {
   "cell_type": "code",
   "execution_count": 20,
   "metadata": {
    "vscode": {
     "languageId": "r"
    }
   },
   "outputs": [],
   "source": [
    "low_dim_weight <- function(y, a=1.93, b=0.79){\n",
    "    #' @param y low dimension weights vector\n",
    "    #' @param a parameter constant\n",
    "    #' @param b parameter constant\n",
    "    #' @returns low dimensional weights as a nxn matrix, where n is the total number of samples.\n",
    "\n",
    "    # here goes your code\n",
    "\n",
    "    return(low_dim_weight_matrix)\n",
    "}"
   ]
  },
  {
   "cell_type": "code",
   "execution_count": 65,
   "metadata": {
    "vscode": {
     "languageId": "r"
    }
   },
   "outputs": [
    {
     "data": {
      "text/html": [
       "<table class=\"dataframe\">\n",
       "<caption>A matrix: 5 × 5 of type dbl</caption>\n",
       "<thead>\n",
       "\t<tr><th></th><th scope=col>1</th><th scope=col>2</th><th scope=col>3</th><th scope=col>4</th><th scope=col>5</th></tr>\n",
       "</thead>\n",
       "<tbody>\n",
       "\t<tr><th scope=row>1</th><td>1.00000000</td><td>0.34129693</td><td>0.1477079</td><td>0.08368293</td><td>0.05479178</td></tr>\n",
       "\t<tr><th scope=row>2</th><td>0.34129693</td><td>1.00000000</td><td>0.3412969</td><td>0.14770791</td><td>0.08368293</td></tr>\n",
       "\t<tr><th scope=row>3</th><td>0.14770791</td><td>0.34129693</td><td>1.0000000</td><td>0.34129693</td><td>0.14770791</td></tr>\n",
       "\t<tr><th scope=row>4</th><td>0.08368293</td><td>0.14770791</td><td>0.3412969</td><td>1.00000000</td><td>0.34129693</td></tr>\n",
       "\t<tr><th scope=row>5</th><td>0.05479178</td><td>0.08368293</td><td>0.1477079</td><td>0.34129693</td><td>1.00000000</td></tr>\n",
       "</tbody>\n",
       "</table>\n"
      ],
      "text/latex": [
       "A matrix: 5 × 5 of type dbl\n",
       "\\begin{tabular}{r|lllll}\n",
       "  & 1 & 2 & 3 & 4 & 5\\\\\n",
       "\\hline\n",
       "\t1 & 1.00000000 & 0.34129693 & 0.1477079 & 0.08368293 & 0.05479178\\\\\n",
       "\t2 & 0.34129693 & 1.00000000 & 0.3412969 & 0.14770791 & 0.08368293\\\\\n",
       "\t3 & 0.14770791 & 0.34129693 & 1.0000000 & 0.34129693 & 0.14770791\\\\\n",
       "\t4 & 0.08368293 & 0.14770791 & 0.3412969 & 1.00000000 & 0.34129693\\\\\n",
       "\t5 & 0.05479178 & 0.08368293 & 0.1477079 & 0.34129693 & 1.00000000\\\\\n",
       "\\end{tabular}\n"
      ],
      "text/markdown": [
       "\n",
       "A matrix: 5 × 5 of type dbl\n",
       "\n",
       "| <!--/--> | 1 | 2 | 3 | 4 | 5 |\n",
       "|---|---|---|---|---|---|\n",
       "| 1 | 1.00000000 | 0.34129693 | 0.1477079 | 0.08368293 | 0.05479178 |\n",
       "| 2 | 0.34129693 | 1.00000000 | 0.3412969 | 0.14770791 | 0.08368293 |\n",
       "| 3 | 0.14770791 | 0.34129693 | 1.0000000 | 0.34129693 | 0.14770791 |\n",
       "| 4 | 0.08368293 | 0.14770791 | 0.3412969 | 1.00000000 | 0.34129693 |\n",
       "| 5 | 0.05479178 | 0.08368293 | 0.1477079 | 0.34129693 | 1.00000000 |\n",
       "\n"
      ],
      "text/plain": [
       "  1          2          3         4          5         \n",
       "1 1.00000000 0.34129693 0.1477079 0.08368293 0.05479178\n",
       "2 0.34129693 1.00000000 0.3412969 0.14770791 0.08368293\n",
       "3 0.14770791 0.34129693 1.0000000 0.34129693 0.14770791\n",
       "4 0.08368293 0.14770791 0.3412969 1.00000000 0.34129693\n",
       "5 0.05479178 0.08368293 0.1477079 0.34129693 1.00000000"
      ]
     },
     "metadata": {},
     "output_type": "display_data"
    }
   ],
   "source": [
    "low_dim_weight <- function(y, a=1.93, b=0.79){\n",
    "    #' @param y low dimension weights vector\n",
    "    #' @param a parameter constant\n",
    "    #' @param b parameter constant\n",
    "    #' @returns low dimensional weights as a nxn matrix, where n is the total number of samples.\n",
    "    \n",
    "    low_dim_dist <- as.matrix(dist(y, method = \"euclidean\", diag = TRUE, upper = TRUE))\n",
    "    #low_dim_weight_matrix <- (1 + a * low_dim_dist**(2*b))**(-1)\n",
    "    low_dim_weight_matrix <- (1 + a * low_dim_dist**(2*b))**(-1)\n",
    "\n",
    "    return(low_dim_weight_matrix)\n",
    "}\n",
    "\n",
    "y <- c(1:5)\n",
    "low_dim_weight(y)"
   ]
  },
  {
   "attachments": {},
   "cell_type": "markdown",
   "metadata": {},
   "source": [
    "## Spectral embedding"
   ]
  },
  {
   "attachments": {},
   "cell_type": "markdown",
   "metadata": {
    "vscode": {
     "languageId": "r"
    }
   },
   "source": [
    "The low dimensional embedding can be generated in python with a few commands, whereas in R it is more complicated. Therefore when using the iris data set we will simply load the result of the python script, which looks like this:\n",
    "\n",
    "> \\# python code \\\n",
    "> import numpy as np \\\n",
    "> from sklearn.manifold import SpectralEmbedding\n",
    "> \n",
    "> model = SpectralEmbedding(n_components = 2, n_neighbors = 15) \\\n",
    "> y = model.fit_transform(iris_data) \\\n",
    ">\n",
    "> np.savetxt(\"./python_y_embedding_n_neigh=15.txt\", y)\n",
    "\n",
    "In R we can then load and plot it, i.e."
   ]
  },
  {
   "cell_type": "code",
   "execution_count": 71,
   "metadata": {
    "vscode": {
     "languageId": "r"
    }
   },
   "outputs": [
    {
     "data": {
      "image/png": "[encoded data removed]",
      "text/plain": [
       "Plot with title \"2D spectral embedding\""
      ]
     },
     "metadata": {
      "image/png": {
       "height": 420,
       "width": 420
      }
     },
     "output_type": "display_data"
    }
   ],
   "source": [
    "y <- read.csv(\"../data/python_y_embedding_n_neigh=15.txt\", header=FALSE)\n",
    "y <- as.matrix(y)\n",
    "\n",
    "plot(y[,1], y[,2], pch=19, col=factor(iris_species), main=\"2D spectral embedding\", xlab=\"\", ylab=\"\", cex=0.5, cex.main=2)\n",
    "legend(\"bottomright\", legend=levels(iris_species), pch=1, col=1:3)"
   ]
  },
  {
   "attachments": {},
   "cell_type": "markdown",
   "metadata": {},
   "source": [
    "But we can also just use a random initalization if we want to, i.e."
   ]
  },
  {
   "cell_type": "code",
   "execution_count": 69,
   "metadata": {
    "vscode": {
     "languageId": "r"
    }
   },
   "outputs": [
    {
     "data": {
      "image/png": "[encoded data removed]",
      "text/plain": [
       "Plot with title \"2D random initialization\""
      ]
     },
     "metadata": {
      "image/png": {
       "height": 420,
       "width": 420
      }
     },
     "output_type": "display_data"
    }
   ],
   "source": [
    "y_random <- matrix(rnorm(300), ncol=2)\n",
    "\n",
    "plot(y_random[,1], y_random[,2], pch=19, col=factor(iris_species), main=\"2D random initialization\", xlab=\"\", ylab=\"\", cex=0.5, cex.main=2)\n",
    "legend(\"topleft\", legend=levels(iris_species), pch=1, col=1:3)"
   ]
  },
  {
   "attachments": {},
   "cell_type": "markdown",
   "metadata": {},
   "source": [
    "## Cost function"
   ]
  },
  {
   "attachments": {},
   "cell_type": "markdown",
   "metadata": {},
   "source": [
    "Now we write the cost function. As discussed in the lecture the cost function is given by:\n",
    "\n",
    "$\\Large CE(w_{high}(x_i, x_j), w_{low}(y_i, y_j)) = \\\\\n",
    "\\sum_i \\sum_j [ w_{high}(X) \\log(\\frac{w_{high}(X)}{w_{low}(Y)}) + (1- w_{high}(X)) \\log(\\frac{1-w_{high}(X)}{1-w_{low}(Y)})] $\n",
    "\n",
    "where $X$ stands for the distance between two points in high dimensional space and $Y$ stands for the distance in low dimensional space. Remember that later we will take the derivative of the cost function and therefore we can leave out the parts that only depend on $w_{high}(X)$ (because they are constant):\n",
    "\n",
    "$\\Large CE(w_{high}(x_i, x_j), w_{low}(y_i, y_j)) = \\\\\n",
    "\\sum_i \\sum_j [-w_{high}(X) \\log(w_{low}(Y)) + (1- w_{high}(X)) \\log(1-w_{low}(Y))]$\n",
    "\n",
    "\n",
    "The low dimensional weights can be obtained from the low dimensional distances $y$ from the function `low_dim_weight(y)`. Try to use matrix vectorization again instead of for-loops since it is a lot faster.\n",
    "\n",
    "For `y <- c(1:150)` the total cost function should be something like this: \n",
    "\n",
    "$\\text{cost function} = 4254$\n",
    "\n",
    "Take care however to use the averaged high dimensional edge weights (fuzzy union) when comparing the results."
   ]
  },
  {
   "cell_type": "code",
   "execution_count": 23,
   "metadata": {
    "vscode": {
     "languageId": "r"
    }
   },
   "outputs": [],
   "source": [
    "cost_function <- function(y, edge_weight_high){\n",
    "    #' @param y the low dimensional weights vector\n",
    "    #' @param edge_weight_high the high dimensional edge weights vector\n",
    "    #' @returns a cost function value, that represents how well the high dimensional structure \n",
    "    #'          is currently represented by the low dimensional structure. the lower the better.\n",
    "\n",
    "    # here goes your code\n",
    "\n",
    "    return(cost_function_total)\n",
    "}\n"
   ]
  },
  {
   "cell_type": "code",
   "execution_count": 104,
   "metadata": {
    "vscode": {
     "languageId": "r"
    }
   },
   "outputs": [
    {
     "data": {
      "text/html": [
       "4254.10854106655"
      ],
      "text/latex": [
       "4254.10854106655"
      ],
      "text/markdown": [
       "4254.10854106655"
      ],
      "text/plain": [
       "[1] 4254.109"
      ]
     },
     "metadata": {},
     "output_type": "display_data"
    }
   ],
   "source": [
    "cost_function <- function(y, edge_weight_high){\n",
    "    #' @param y the low dimensional weights vector\n",
    "    #' @param edge_weight_high the high dimensional edge weights vector\n",
    "    #' @returns a cost function value, that represents how well the high dimensional structure is currently\n",
    "    #' represented by the low dimensional structure. the lower the better.\n",
    "\n",
    "    edge_weight_low <- low_dim_weight(y)\n",
    "    cost_function_matrix <- -edge_weight_high * log(edge_weight_low + 0.01) - (1 - edge_weight_high) * log(1 - edge_weight_low + 0.01)\n",
    "\n",
    "    return(sum(cost_function_matrix))\n",
    "}\n",
    "\n",
    "y <- c(1:150)\n",
    "cost_function(y, high_dim_edge_avg)"
   ]
  },
  {
   "attachments": {},
   "cell_type": "markdown",
   "metadata": {},
   "source": [
    "## Gradient of cost function"
   ]
  },
  {
   "attachments": {},
   "cell_type": "markdown",
   "metadata": {},
   "source": [
    "Next we need the derivative of the cost function. The equation of the cost function from the lecture is as follows:\n",
    "\n",
    "\\begin{aligned}\n",
    "\n",
    "\\large \\frac{\\partial CE(w_{low}(d_{ij}))}{\\partial y_i} &= \\text{ ... } = \\\\ \n",
    "\n",
    "\\Large &= \\sum_j \\Biggr[ \\frac{2abd_{ij}^{2(b-1)}w_{high}}{1 + ad_{ij}^{2b}} - \\frac{2b (1-w_{high})}{d_{ij}^2(1 + ad_{ij}^{2b})} \\Biggr] (y_i - y_j)\n",
    "\n",
    "\\end{aligned}\n",
    "\n",
    "Below there are two implementation of the gradient of the cost function in R. The first one is fully vectorized and therefore harder to understand than the slightly less vectorized version below it. \n",
    "\n",
    "In both versions part of the prefactor (right_prefactor) was normalized. This is not part of the original UMAP algorithm, however including the normalization shows better performance on this manually programmed version of the UMAP algorithm."
   ]
  },
  {
   "cell_type": "code",
   "execution_count": 76,
   "metadata": {
    "vscode": {
     "languageId": "r"
    }
   },
   "outputs": [
    {
     "data": {
      "text/html": [
       "<table class=\"dataframe\">\n",
       "<caption>A matrix: 5 × 2 of type dbl</caption>\n",
       "<tbody>\n",
       "\t<tr><td> 0.024556022</td><td>-0.064312169</td></tr>\n",
       "\t<tr><td>-0.002233739</td><td>-0.022882894</td></tr>\n",
       "\t<tr><td> 0.020781013</td><td>-0.065584653</td></tr>\n",
       "\t<tr><td>-0.033270805</td><td> 0.007680316</td></tr>\n",
       "\t<tr><td>-0.001407369</td><td>-0.017918261</td></tr>\n",
       "</tbody>\n",
       "</table>\n"
      ],
      "text/latex": [
       "A matrix: 5 × 2 of type dbl\n",
       "\\begin{tabular}{ll}\n",
       "\t  0.024556022 & -0.064312169\\\\\n",
       "\t -0.002233739 & -0.022882894\\\\\n",
       "\t  0.020781013 & -0.065584653\\\\\n",
       "\t -0.033270805 &  0.007680316\\\\\n",
       "\t -0.001407369 & -0.017918261\\\\\n",
       "\\end{tabular}\n"
      ],
      "text/markdown": [
       "\n",
       "A matrix: 5 × 2 of type dbl\n",
       "\n",
       "|  0.024556022 | -0.064312169 |\n",
       "| -0.002233739 | -0.022882894 |\n",
       "|  0.020781013 | -0.065584653 |\n",
       "| -0.033270805 |  0.007680316 |\n",
       "| -0.001407369 | -0.017918261 |\n",
       "\n"
      ],
      "text/plain": [
       "     [,1]         [,2]        \n",
       "[1,]  0.024556022 -0.064312169\n",
       "[2,] -0.002233739 -0.022882894\n",
       "[3,]  0.020781013 -0.065584653\n",
       "[4,] -0.033270805  0.007680316\n",
       "[5,] -0.001407369 -0.017918261"
      ]
     },
     "metadata": {},
     "output_type": "display_data"
    }
   ],
   "source": [
    "#half vectorized version\n",
    "cost_gradient <- function(y, high_dim_edge_avg, a=1.93, b=0.79){\n",
    "    #' @param y the low dimensional weights vector\n",
    "    #' @param edge_weight_high_avg the \"average\" of the high dimensional edge weights vector\n",
    "    #' @returns the gradient of the cost function, i.e. in our case a matrix of shape 150x2\n",
    "    \n",
    "    n_ <- dim(y)[1] # n_ equals how many points/samples do we have in our data?\n",
    "    m_ <- dim(y)[2] # m_ equals the low dimensional space we project into? usually 2d or 3d.\n",
    "    y_i <- matrix(NaN, nrow=n_, ncol=m_)\n",
    "\n",
    "    d_ij <- as.matrix(dist(y, method = \"euclidean\", diag = TRUE, upper=TRUE))\n",
    "    left_prefactor <- a * high_dim_edge_avg * (c(1e-8) + d_ij**2)**(b-1)\n",
    "    right_prefactor <- (1 - high_dim_edge_avg) %*% (c(0.001) + d_ij**2)**(-1)\n",
    "    \n",
    "    diag(right_prefactor) <- 0\n",
    "    right_prefactor <- right_prefactor / rowSums(right_prefactor)\n",
    "    \n",
    "    prefactor <- 2 * b * low_dim_weight(y) * (left_prefactor - right_prefactor)\n",
    "\n",
    "    for (i in 1:n_){ # for loop over all points i\n",
    "\n",
    "        point_i <- y[i, ]\n",
    "        y_diff<- matrix(NaN, nrow=n_, ncol=m_)\n",
    "        for (j in 1:n_){ # for loop over all points j (in respect to point i)\n",
    "            point_j <- y[j, ]\n",
    "            y_diff[j, ] <- point_i - point_j\n",
    "        }\n",
    "        y_i[i, ] <- colSums(prefactor[i, ] * y_diff)\n",
    "\n",
    "    }\n",
    "    return(y_i)\n",
    "}\n",
    "\n",
    "y <- read.csv(\"../data/python_y_embedding_n_neigh=15.txt\", header=FALSE)\n",
    "y <- as.matrix(y)\n",
    "\n",
    "cost_gradient(y, high_dim_edge_avg)[1:5,]\n"
   ]
  },
  {
   "cell_type": "code",
   "execution_count": 77,
   "metadata": {
    "vscode": {
     "languageId": "r"
    }
   },
   "outputs": [
    {
     "data": {
      "text/html": [
       "<table class=\"dataframe\">\n",
       "<caption>A matrix: 5 × 2 of type dbl</caption>\n",
       "<tbody>\n",
       "\t<tr><td> 0.024556022</td><td>-0.064312169</td></tr>\n",
       "\t<tr><td>-0.002233739</td><td>-0.022882894</td></tr>\n",
       "\t<tr><td> 0.020781013</td><td>-0.065584653</td></tr>\n",
       "\t<tr><td>-0.033270805</td><td> 0.007680316</td></tr>\n",
       "\t<tr><td>-0.001407369</td><td>-0.017918261</td></tr>\n",
       "</tbody>\n",
       "</table>\n"
      ],
      "text/latex": [
       "A matrix: 5 × 2 of type dbl\n",
       "\\begin{tabular}{ll}\n",
       "\t  0.024556022 & -0.064312169\\\\\n",
       "\t -0.002233739 & -0.022882894\\\\\n",
       "\t  0.020781013 & -0.065584653\\\\\n",
       "\t -0.033270805 &  0.007680316\\\\\n",
       "\t -0.001407369 & -0.017918261\\\\\n",
       "\\end{tabular}\n"
      ],
      "text/markdown": [
       "\n",
       "A matrix: 5 × 2 of type dbl\n",
       "\n",
       "|  0.024556022 | -0.064312169 |\n",
       "| -0.002233739 | -0.022882894 |\n",
       "|  0.020781013 | -0.065584653 |\n",
       "| -0.033270805 |  0.007680316 |\n",
       "| -0.001407369 | -0.017918261 |\n",
       "\n"
      ],
      "text/plain": [
       "     [,1]         [,2]        \n",
       "[1,]  0.024556022 -0.064312169\n",
       "[2,] -0.002233739 -0.022882894\n",
       "[3,]  0.020781013 -0.065584653\n",
       "[4,] -0.033270805  0.007680316\n",
       "[5,] -0.001407369 -0.017918261"
      ]
     },
     "metadata": {},
     "output_type": "display_data"
    }
   ],
   "source": [
    "#fully vectorized version\n",
    "cost_gradient <- function(y, high_dim_edge_avg, a=1.93, b=0.79){\n",
    "    #' @param y the low dimensional weights vector\n",
    "    #' @param edge_weight_high_avg the \"average\" of the high dimensional edge weights vector\n",
    "    #' @returns the gradient of the cost function, i.e. in our case a matrix of shape 150x2\n",
    "        \n",
    "    d_ij <- as.matrix(dist(y, method = \"euclidean\", diag = TRUE))\n",
    "    left_prefactor <- a * high_dim_edge_avg * (c(1e-8) + d_ij**2)**(b-1)\n",
    "    right_prefactor <- (1 - high_dim_edge_avg) %*% (c(0.001) + d_ij**2)**(-1)\n",
    "\n",
    "    diag(right_prefactor) <- 0\n",
    "    right_prefactor <- right_prefactor / rowSums(right_prefactor)\n",
    "\n",
    "    prefactor <- 2 * b * low_dim_weight(y) * (left_prefactor - right_prefactor)\n",
    "\n",
    "    dim(prefactor) <- c(dim(prefactor)[1], dim(prefactor)[-1], 1)\n",
    "\n",
    "    y_i <- array(rep(t(y), each=dim(y)[1]), c(dim(y)[1], dim(y)[-1], dim(y)[1]))\n",
    "    y_j <- array(y , c(dim(y)[1], dim(y)[-1], 1))\n",
    "    y_diff <- sweep(y_i, 1, y_j, \"-\", check.margin = FALSE)\n",
    "\n",
    "    result <- sweep(y_diff, 3, prefactor, \"*\", check.margin = FALSE)\n",
    "\n",
    "    return(t(colSums(result, dims=1)))\n",
    "}\n",
    "\n",
    "y <- read.csv(\"../data/python_y_embedding_n_neigh=15.txt\", header=FALSE)\n",
    "y <- as.matrix(y)\n",
    "\n",
    "cost_gradient(y, high_dim_edge_avg)[1:5,]"
   ]
  },
  {
   "attachments": {},
   "cell_type": "markdown",
   "metadata": {},
   "source": [
    "## Convergence"
   ]
  },
  {
   "attachments": {},
   "cell_type": "markdown",
   "metadata": {},
   "source": [
    "Now we put everything together. We start with either a random initalization or the spectral embedding of the low dimensional representation of our data. Then we calculate the gradient of the cost function and take a step in the correct direction in the low dimensional space, i.e.\n",
    "\n",
    "$\\Large y_i = y_i - \\alpha \\cdot \\frac{\\partial CE}{\\partial y_i}$\n",
    "\n",
    "where $\\alpha$ is the learning rate and $\\frac{\\partial CE}{\\partial y_i}$ is the i-th element of the gradient of the cost function."
   ]
  },
  {
   "cell_type": "code",
   "execution_count": 101,
   "metadata": {
    "vscode": {
     "languageId": "r"
    }
   },
   "outputs": [
    {
     "name": "stdout",
     "output_type": "stream",
     "text": [
      "Cost function = 0.062772295319594 after 10 iterations.\n",
      "Cost function = 0.0624597873962243 after 20 iterations.\n",
      "Cost function = 0.0545135472465257 after 30 iterations.\n",
      "Cost function = 0.0589153098399367 after 40 iterations.\n",
      "Cost function = 0.0552275245016194 after 50 iterations.\n",
      "Cost function = 0.0537187868803247 after 60 iterations.\n",
      "Cost function = 0.0484683203864469 after 70 iterations.\n",
      "Cost function = 0.0601554906756562 after 80 iterations.\n",
      "Cost function = 0.0474315915004974 after 90 iterations.\n",
      "Cost function = 0.0502327069378156 after 100 iterations.\n",
      "Cost function = 0.0506839140941198 after 110 iterations.\n",
      "Cost function = 0.0573471445237112 after 120 iterations.\n",
      "Cost function = 0.0503205381661872 after 130 iterations.\n",
      "Cost function = 0.0547711917603866 after 140 iterations.\n",
      "Cost function = 0.0480662952391175 after 150 iterations.\n",
      "Cost function = 0.0465456530874574 after 160 iterations.\n",
      "Cost function = 0.0498129204420093 after 170 iterations.\n",
      "Cost function = 0.0470649485702953 after 180 iterations.\n",
      "Cost function = 0.044586321262245 after 190 iterations.\n",
      "Cost function = 0.0507008321340861 after 200 iterations.\n"
     ]
    },
    {
     "data": {
      "text/html": [
       "<strong>null device:</strong> 1"
      ],
      "text/latex": [
       "\\textbf{null device:} 1"
      ],
      "text/markdown": [
       "**null device:** 1"
      ],
      "text/plain": [
       "null device \n",
       "          1 "
      ]
     },
     "metadata": {},
     "output_type": "display_data"
    },
    {
     "data": {
      "image/png": "[encoded data removed]",
      "text/plain": [
       "Plot with title \"Convergence of the cost function\""
      ]
     },
     "metadata": {
      "image/png": {
       "height": 420,
       "width": 420
      }
     },
     "output_type": "display_data"
    }
   ],
   "source": [
    "n_low_dim <- 2\n",
    "learning_rate_alpha <- 1\n",
    "max_iter <- 200\n",
    "\n",
    "## starting point for the low dimensional space through spectral embedding\n",
    "# y <- read.csv(\"../data/python_y_embedding_n_neigh=15.txt\", header=FALSE)\n",
    "# y <- as.matrix(y)\n",
    "\n",
    "## random initialization\n",
    "y_random <- matrix(rnorm(300), ncol=2)\n",
    "y <- y_random\n",
    "\n",
    "cost_function_vec <- c()\n",
    "\n",
    "for (iteration_i in 1:max_iter){\n",
    "    \n",
    "    y <- y - learning_rate_alpha * cost_gradient(y, high_dim_edge_avg, a=1.93, b=0.79)\n",
    "\n",
    "    # plotting\n",
    "    dir.create(file.path(\"./plots/UMAP_iris_r\"), showWarnings = FALSE)\n",
    "    png(paste0(\"./plots/UMAP_iris_r/iris_iter_\",iteration_i,\".png\"), width=500, height=500)\n",
    "    plot(y[,1], y[,2], pch=19, col=as.numeric(iris_species),\n",
    "        main=paste(\"UMAP on Iris data set\\niteration = \", iteration_i), xlab=\"UMAP1\", ylab=\"UMAP2\", cex=0.5, cex.main=2)\n",
    "    legend(\"bottomleft\", legend=levels(iris_species), pch=1, col=1:3)\n",
    "    dev.off()\n",
    "\n",
    "    # cost function value\n",
    "    cost_function_current <- sum(cost_function(y, high_dim_edge_avg)) / 1e+5\n",
    "    cost_function_vec <- c(cost_function_vec, cost_function_current)\n",
    "\n",
    "    # algorithm progress\n",
    "    if (iteration_i %% 10 == 0){\n",
    "        cat(paste0(\"Cost function = \", cost_function_current, \" after \", iteration_i, \" iterations.\\n\"))\n",
    "    }\n",
    "}\n",
    "\n",
    "plot(cost_function_vec, main=\"Convergence of the cost function\", xlab=\"iterations\", \n",
    "    ylab=\"cost function value\", cex.main=2, cex.lab=1.5)\n",
    "dev.off()"
   ]
  },
  {
   "attachments": {},
   "cell_type": "markdown",
   "metadata": {},
   "source": [
    "The different iterations are saved in the 'src/plots/UMAP_iris_r' directory. By clicking through the images you can see how the algorithm slowly converges.\n",
    "\n",
    "After conversion is completed our manually programmed UMAP algorithm shows the following low dimensional representation of our data."
   ]
  },
  {
   "cell_type": "code",
   "execution_count": 102,
   "metadata": {
    "vscode": {
     "languageId": "r"
    }
   },
   "outputs": [
    {
     "data": {
      "image/png": "[encoded data removed]",
      "text/plain": [
       "Plot with title \"UMAP on Iris data set\""
      ]
     },
     "metadata": {
      "image/png": {
       "height": 420,
       "width": 420
      }
     },
     "output_type": "display_data"
    }
   ],
   "source": [
    "plot(y[,1], y[,2], pch=19, col=factor(iris_species), main=\"UMAP on Iris data set\", \n",
    "    xlab=\"UMAP1\", ylab=\"UMAP2\", cex=0.5, cex.main=2)\n",
    "legend(\"topright\", legend=levels(iris_species), pch=1, col=1:3)    "
   ]
  },
  {
   "attachments": {},
   "cell_type": "markdown",
   "metadata": {},
   "source": [
    "As already seen in the lecture the manually programmed UMAP algorithm has a hard time distinguishing between the classes 'versicolor' and 'virginica'. You can try and play around with the hyperparamters to achieve a better result for yourself. Try increasing the number of $k$ neighbors to better retain the global structure of the high dimensional space."
   ]
  },
  {
   "attachments": {},
   "cell_type": "markdown",
   "metadata": {},
   "source": [
    "## We are finished!"
   ]
  }
 ],
 "metadata": {
  "kernelspec": {
   "display_name": "R",
   "language": "R",
   "name": "ir"
  },
  "language_info": {
   "codemirror_mode": "r",
   "file_extension": ".r",
   "mimetype": "text/x-r-source",
   "name": "R",
   "pygments_lexer": "r",
   "version": "4.1.3"
  },
  "orig_nbformat": 4
 },
 "nbformat": 4,
 "nbformat_minor": 2
}
